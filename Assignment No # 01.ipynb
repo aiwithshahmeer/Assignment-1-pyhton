{
 "cells": [
  {
   "cell_type": "markdown",
   "id": "0a7e6ac2",
   "metadata": {},
   "source": [
    "1) A company decided to give bonus of 5% to employee if his/her year of service is more than 5 years. Ask user for their salary and year of\n",
    "service and print the net bonus amount."
   ]
  },
  {
   "cell_type": "code",
   "execution_count": 1,
   "id": "12e4d29c",
   "metadata": {},
   "outputs": [
    {
     "name": "stdout",
     "output_type": "stream",
     "text": [
      "Enter Your Salary: 1000\n",
      "Enter Your Service Duration: 6\n",
      "50.0\n"
     ]
    }
   ],
   "source": [
    "Bonus = 0.05\n",
    "Salary = int(input(\"Enter Your Salary: \"))\n",
    "Service = int(input(\"Enter Your Service Duration: \"))\n",
    "Service_required = 5\n",
    "\n",
    "if Service < Service_required:\n",
    "    print(\"You are not Eligible for Bonus\")\n",
    "else:\n",
    "    print(Salary*Bonus)"
   ]
  },
  {
   "cell_type": "markdown",
   "id": "c4ca08e5",
   "metadata": {},
   "source": [
    "2) Write a program to check whether a person is eligible for voting or not. (accept age from user) if age is greater than 17 eligible otherwise not eligible"
   ]
  },
  {
   "cell_type": "code",
   "execution_count": 7,
   "id": "693d9864",
   "metadata": {},
   "outputs": [
    {
     "name": "stdout",
     "output_type": "stream",
     "text": [
      "Enter Your Name: alee\n",
      "Enter Your Age: 12\n",
      "Sorry, You are Not Eligible for Voting\n"
     ]
    }
   ],
   "source": [
    "Name = input(\"Enter Your Name: \")\n",
    "Age = int(input(\"Enter Your Age: \"))\n",
    "Age_Required = 17\n",
    "\n",
    "if Age < Age_Required:\n",
    "    print(\"Sorry, You are Not Eligible for Voting\")\n",
    "else:\n",
    "    print(\"You are Eligible for Voting\")"
   ]
  },
  {
   "cell_type": "markdown",
   "id": "9f2a21e7",
   "metadata": {},
   "source": [
    "3) Write a program to check whether a number entered by user is even or odd."
   ]
  },
  {
   "cell_type": "code",
   "execution_count": 20,
   "id": "91eac96a",
   "metadata": {},
   "outputs": [
    {
     "name": "stdout",
     "output_type": "stream",
     "text": [
      "Enter A Number :4\n",
      "Its a Even Number\n"
     ]
    }
   ],
   "source": [
    "Number = int(input(\"Enter A Number :\"))\n",
    "if Number%2 == 0 :\n",
    "    print(\"Its a Even Number\")\n",
    "else:\n",
    "    print(\"Its an Odd Number\")"
   ]
  },
  {
   "cell_type": "markdown",
   "id": "492ed1fb",
   "metadata": {},
   "source": [
    "4) Write a program to check whether a number is divisible by 7 or not."
   ]
  },
  {
   "cell_type": "code",
   "execution_count": 24,
   "id": "aa5ab1fa",
   "metadata": {},
   "outputs": [
    {
     "name": "stdout",
     "output_type": "stream",
     "text": [
      "Enter a Number :56\n",
      "Yes,This Number is Divisible by 7\n"
     ]
    }
   ],
   "source": [
    "Number = int(input(\"Enter a Number :\"))\n",
    "if Number%7 == 0 :\n",
    "    print(\"Yes,This Number is Divisible by 7\")\n",
    "else :\n",
    "    print(\"Sorry this number is not Divisible by 7\")"
   ]
  },
  {
   "cell_type": "markdown",
   "id": "88848545",
   "metadata": {},
   "source": [
    "5) Write a program to display \"Hello\" if a number entered by user is a multiple of five , otherwise print \"Bye\"."
   ]
  },
  {
   "cell_type": "code",
   "execution_count": 26,
   "id": "e01975e4",
   "metadata": {},
   "outputs": [
    {
     "name": "stdout",
     "output_type": "stream",
     "text": [
      "Enter a Number: 10\n",
      "Hello\n"
     ]
    }
   ],
   "source": [
    "Number = int(input(\"Enter a Number: \"))\n",
    "if Number%5 == 0 :\n",
    "    print(\"Hello\")\n",
    "else :\n",
    "    print(\"Bye\")"
   ]
  },
  {
   "cell_type": "markdown",
   "id": "5d7b9855",
   "metadata": {},
   "source": [
    "###### 6) Write a program to calculate the electricity bill (accept number of unit from user) according to the following criteria : Unit Price\n",
    "uptp 100 units no charge Next 200 units Rs 5 per unit After 200 units Rs 10 per unit (For example if input unit is 350 than total bill amount is\n",
    "Rs.3500 (For example if input unit is 97 than total bill amount is Rs.0 (For example if input unit is 150 than total bill amount is Rs.750"
   ]
  },
  {
   "cell_type": "code",
   "execution_count": 10,
   "id": "1231ca3a",
   "metadata": {},
   "outputs": [
    {
     "name": "stdout",
     "output_type": "stream",
     "text": [
      "Enter Your Units: 350\n",
      "3500\n"
     ]
    }
   ],
   "source": [
    "Units = int(input(\"Enter Your Units: \"))\n",
    "if Units > 200 :\n",
    "    print(Units*10)\n",
    "elif Units > 100 :\n",
    "    print(Units*5)\n",
    "else:\n",
    "    print(\"No Charges\")"
   ]
  },
  {
   "cell_type": "markdown",
   "id": "cfb8de85",
   "metadata": {},
   "source": [
    "7) Write a program to display the last digit of a number."
   ]
  },
  {
   "cell_type": "code",
   "execution_count": 11,
   "id": "3d6ba4f6",
   "metadata": {},
   "outputs": [
    {
     "name": "stdout",
     "output_type": "stream",
     "text": [
      "Enter a Number: 234\n",
      "4\n"
     ]
    }
   ],
   "source": [
    "Num1 = int(input(\"Enter a Number: \"))\n",
    "print(Num1%10)"
   ]
  },
  {
   "cell_type": "markdown",
   "id": "bb1d26cc",
   "metadata": {},
   "source": [
    "8. Write a program to check whether the last digit of a number( entered by user ) is divisible by 3 or not.\n"
   ]
  },
  {
   "cell_type": "code",
   "execution_count": 14,
   "id": "f7b9e726",
   "metadata": {},
   "outputs": [
    {
     "name": "stdout",
     "output_type": "stream",
     "text": [
      "Enter a Value: 234\n",
      "Yess... It is Divisible by 3\n"
     ]
    }
   ],
   "source": [
    "Num2 = int(input(\"Enter a Value: \"))\n",
    "Num3 = (Num2%10)\n",
    "if Num3/3 :\n",
    "    print(\"Yess... It is Divisible by 3\")\n",
    "else:\n",
    "    print(\"No.. Not Diivisible by 3\")"
   ]
  },
  {
   "cell_type": "markdown",
   "id": "b20aa482",
   "metadata": {},
   "source": [
    "9) Take values of length and breadth of a rectangle from user and print if it is square or rectangle."
   ]
  },
  {
   "cell_type": "code",
   "execution_count": 28,
   "id": "80e2caf9",
   "metadata": {},
   "outputs": [
    {
     "name": "stdout",
     "output_type": "stream",
     "text": [
      "Enter Length :20\n",
      "Enter Breadth50\n",
      "It is a Rectangle\n"
     ]
    }
   ],
   "source": [
    "Length = int(input(\"Enter Length :\"))\n",
    "Breadth = int(input(\"Enter Breadth\"))\n",
    "\n",
    "if Length == Breadth :\n",
    "    print(\"It is a Square\")\n",
    "else :\n",
    "    print(\"It is a Rectangle\")"
   ]
  },
  {
   "cell_type": "markdown",
   "id": "104b8914",
   "metadata": {},
   "source": [
    "10) Take two int values from user and print greatest among them."
   ]
  },
  {
   "cell_type": "code",
   "execution_count": 30,
   "id": "848cc084",
   "metadata": {},
   "outputs": [
    {
     "name": "stdout",
     "output_type": "stream",
     "text": [
      "Enter a Number :100\n",
      "Enter a Number :90\n",
      "100\n"
     ]
    }
   ],
   "source": [
    "Number_1 = int(input(\"Enter a Number :\"))\n",
    "Number_2 = int(input(\"Enter a Number :\"))\n",
    "if Number_1>Number_2 :\n",
    "    print(Number_1)\n",
    "\n",
    "else :\n",
    "    print(Number_2)"
   ]
  },
  {
   "cell_type": "markdown",
   "id": "5f516f57",
   "metadata": {},
   "source": [
    "11) A shop will give discount of 10% if the cost of purchased quantity is more than 1000. Ask user for quantity Suppose, one unit will cost 100.\n",
    "Judge and print total cost for user."
   ]
  },
  {
   "cell_type": "code",
   "execution_count": 32,
   "id": "a72b7a0d",
   "metadata": {},
   "outputs": [
    {
     "name": "stdout",
     "output_type": "stream",
     "text": [
      "Enter Quantity :2000\n",
      "18000.0\n"
     ]
    }
   ],
   "source": [
    "Purchase_Quantity = int(input(\"Enter Quantity :\"))\n",
    "Price = 10\n",
    "if Purchase_Quantity < 1000 :\n",
    "    print(Purchase_Quantity*Price)\n",
    "else :\n",
    "    print(Purchase_Quantity*(Price/10)*9)"
   ]
  },
  {
   "cell_type": "markdown",
   "id": "debaa178",
   "metadata": {},
   "source": [
    "12) A school has following rules for grading system:\n",
    "a. Below 25 - F\n",
    "b. 25 to 45 - E\n",
    "c. 45 to 50 - D\n",
    "d. 50 to 60 - C\n",
    "e. 60 to 80 - B\n",
    "f. Above 80 - A\n",
    "Ask user to enter marks and print the corresponding grade"
   ]
  },
  {
   "cell_type": "code",
   "execution_count": 34,
   "id": "1bf86784",
   "metadata": {},
   "outputs": [
    {
     "name": "stdout",
     "output_type": "stream",
     "text": [
      "Enter Your Percentage: 90\n",
      "A+\n"
     ]
    }
   ],
   "source": [
    "Percentage = int(input(\"Enter Your Percentage: \"))\n",
    "if Percentage >= 90 :\n",
    "    print(\"A+\")\n",
    "elif Percentage >= 80 :\n",
    "    print(\"A\")\n",
    "elif Percentage >= 60 :\n",
    "    print(\"B\")\n",
    "elif Percentage >= 50 :\n",
    "    print(\"C\")\n",
    "elif Percentage >= 45 :\n",
    "    print(\"D\")\n",
    "elif Percentage >= 25 :\n",
    "    print(\"E\")\n",
    "else:\n",
    "    print(\"F\")"
   ]
  },
  {
   "cell_type": "markdown",
   "id": "00138f58",
   "metadata": {},
   "source": [
    "13) Take input of age of 3 people by user and determine oldest and youngest among them."
   ]
  },
  {
   "cell_type": "code",
   "execution_count": 16,
   "id": "40375d1f",
   "metadata": {},
   "outputs": [
    {
     "name": "stdout",
     "output_type": "stream",
     "text": [
      "Enter age of person 1: 30\n",
      "Enter age of person 2: 20\n",
      "Enter age of person 3: 10\n",
      "The oldest person is 30 years old.\n",
      "The youngest person is 10 years old.\n"
     ]
    }
   ],
   "source": [
    "age1 = int(input(\"Enter age of person 1: \"))\n",
    "age2 = int(input(\"Enter age of person 2: \"))\n",
    "age3 = int(input(\"Enter age of person 3: \"))\n",
    "\n",
    "\n",
    "if age1 >= age2 and age1 >= age3:\n",
    "    oldest = age1\n",
    "elif age2 >= age1 and age2 >= age3:\n",
    "    oldest = age2\n",
    "else:\n",
    "    oldest = age3\n",
    "\n",
    "if age1 <= age2 and age1 <= age3:\n",
    "    youngest = age1\n",
    "elif age2 <= age1 and age2 <= age3:\n",
    "    youngest = age2\n",
    "else:\n",
    "    youngest = age3\n",
    "    \n",
    "\n",
    "    \n",
    "print(f\"The oldest person is {oldest} years old.\")\n",
    "print(f\"The youngest person is {youngest} years old.\")\n"
   ]
  },
  {
   "cell_type": "markdown",
   "id": "13ac9ea4",
   "metadata": {},
   "source": [
    "14)A student will not be allowed to sit in exam if his/her attendence is less than 75%.\n",
    "Take following input from user\n",
    "Number of classes held\n",
    "Number of classes attended.\n",
    "And print\n",
    "percentage of class attended\n",
    "Is student is allowed to sit in exam or not.\n"
   ]
  },
  {
   "cell_type": "code",
   "execution_count": 40,
   "id": "269b5a48",
   "metadata": {},
   "outputs": [
    {
     "name": "stdout",
     "output_type": "stream",
     "text": [
      "Enter Classes Held :80\n",
      "Enter Classes that you Atended :70\n",
      "You are allowed to sit in exams\n"
     ]
    }
   ],
   "source": [
    "Classes_held = int(input(\"Enter Classes Held :\"))\n",
    "Classes_Atended = int(input(\"Enter Classes that you Atended :\"))\n",
    "if Classes_Atended/Classes_held >= 0.75 :\n",
    "    print(\"You are allowed to sit in exams\")\n",
    "else : \n",
    "    print(\"You are NOT ALLOWED to sit in exams\")"
   ]
  },
  {
   "cell_type": "markdown",
   "id": "fd23e6a4",
   "metadata": {},
   "source": [
    "15) Modify the above question to allow student to sit if he/she has medical cause. Ask user if he/she has medical cause or not ( 'Y' or 'N' ) and\n",
    "print accordingly."
   ]
  },
  {
   "cell_type": "code",
   "execution_count": 43,
   "id": "f517bac7",
   "metadata": {},
   "outputs": [
    {
     "name": "stdout",
     "output_type": "stream",
     "text": [
      "Enter Classes Held :100\n",
      "Enter Classes that you Atended :60\n",
      "Did You suffer Medical Cause :N\n",
      "You are NOT ALLOWED to sit in exams\n"
     ]
    }
   ],
   "source": [
    "Classes_held = int(input(\"Enter Classes Held :\"))\n",
    "Classes_Atended = int(input(\"Enter Classes that you Atended :\"))\n",
    "Illness = input(\"Did You suffer Medical Cause :\")\n",
    "if Classes_Atended/Classes_held >= 0.75 :\n",
    "    print(\"You are allowed to sit in exams\")\n",
    "elif Illness == \"Y\" :\n",
    "    print(\"You can Appear in Exams\")\n",
    "else : \n",
    "    print(\"You are NOT ALLOWED to sit in exams\")"
   ]
  },
  {
   "cell_type": "markdown",
   "id": "80eb2567",
   "metadata": {},
   "source": [
    "16) Write a program to check if a year is leap year or not.\n",
    "If a year is divisible by 4 then it is leap year but if the year is century year like 2000, 1900, 2100 then it must be divisible by 400.\n"
   ]
  },
  {
   "cell_type": "code",
   "execution_count": 48,
   "id": "9c331c80",
   "metadata": {},
   "outputs": [
    {
     "name": "stdout",
     "output_type": "stream",
     "text": [
      "Enter a Year :2024\n",
      "Its a Leap Year\n"
     ]
    }
   ],
   "source": [
    "Year = int(input(\"Enter a Year :\"))\n",
    "if Year % 4 ==0 :\n",
    "    print(\"Its a Leap Year\")\n",
    "else :\n",
    "    print(\"Its Not a Leap Year\")"
   ]
  },
  {
   "cell_type": "markdown",
   "id": "33e1a9f5",
   "metadata": {},
   "source": [
    "17) Ask user to enter age, gender ( M or F ), marital status ( Y or N ) and then using following rules print their place of service.\n",
    "if employee is female, then she will work only in urban areas.\n",
    "if employee is a male and age is in between 20 to 40 then he may work in anywhere\n",
    "if employee is male and age is in between 40 t0 60 then he will work in urban areas only.\n",
    "And any other input of age should print \"ERROR\""
   ]
  },
  {
   "cell_type": "code",
   "execution_count": 49,
   "id": "a49d2bcd",
   "metadata": {},
   "outputs": [
    {
     "name": "stdout",
     "output_type": "stream",
     "text": [
      "Enter Your Age :40\n",
      "Enter Your Gender :F\n",
      "Enter Your Maritial Status :Married\n",
      "You will work in any area\n"
     ]
    }
   ],
   "source": [
    "Age = int(input(\"Enter Your Age :\"))\n",
    "Gender = input(\"Enter Your Gender :\")\n",
    "Maritial_Status = input(\"Enter Your Maritial Status :\")\n",
    "\n",
    "if Age <= 40 :\n",
    "    print(\"You will work in any area\")\n",
    "elif Age > 60 :\n",
    "    print(\"ERROR\")\n",
    "elif Age <= 20 :\n",
    "    print(\"ERROR\")\n",
    "elif Age > 40 :\n",
    "    print(\"You will be work in Urban areas Only\")\n",
    "\n",
    "elif Gender == \"F\" :\n",
    "    print(\"You will work only in urban areas\")\n",
    "else:\n",
    "    print(\"ERROR\")"
   ]
  },
  {
   "cell_type": "code",
   "execution_count": null,
   "id": "f2a62920",
   "metadata": {},
   "outputs": [],
   "source": []
  }
 ],
 "metadata": {
  "kernelspec": {
   "display_name": "Python 3 (ipykernel)",
   "language": "python",
   "name": "python3"
  },
  "language_info": {
   "codemirror_mode": {
    "name": "ipython",
    "version": 3
   },
   "file_extension": ".py",
   "mimetype": "text/x-python",
   "name": "python",
   "nbconvert_exporter": "python",
   "pygments_lexer": "ipython3",
   "version": "3.11.5"
  }
 },
 "nbformat": 4,
 "nbformat_minor": 5
}
